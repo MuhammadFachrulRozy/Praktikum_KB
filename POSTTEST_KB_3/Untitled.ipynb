{
 "cells": [
  {
   "cell_type": "code",
   "execution_count": 12,
   "id": "15ef428d",
   "metadata": {},
   "outputs": [],
   "source": [
    "import pandas as pd\n",
    "import matplotlib.pyplot as plt\n",
    "df = pd.read_csv(\"players.csv\")"
   ]
  },
  {
   "cell_type": "code",
   "execution_count": 4,
   "id": "a6e06915",
   "metadata": {},
   "outputs": [
    {
     "data": {
      "text/html": [
       "<div>\n",
       "<style scoped>\n",
       "    .dataframe tbody tr th:only-of-type {\n",
       "        vertical-align: middle;\n",
       "    }\n",
       "\n",
       "    .dataframe tbody tr th {\n",
       "        vertical-align: top;\n",
       "    }\n",
       "\n",
       "    .dataframe thead th {\n",
       "        text-align: right;\n",
       "    }\n",
       "</style>\n",
       "<table border=\"1\" class=\"dataframe\">\n",
       "  <thead>\n",
       "    <tr style=\"text-align: right;\">\n",
       "      <th></th>\n",
       "      <th>rank</th>\n",
       "      <th>expLevel</th>\n",
       "      <th>trophies</th>\n",
       "      <th>id_arena</th>\n",
       "    </tr>\n",
       "  </thead>\n",
       "  <tbody>\n",
       "    <tr>\n",
       "      <th>0</th>\n",
       "      <td>1</td>\n",
       "      <td>13</td>\n",
       "      <td>6148</td>\n",
       "      <td>54000015.0</td>\n",
       "    </tr>\n",
       "    <tr>\n",
       "      <th>1</th>\n",
       "      <td>2</td>\n",
       "      <td>13</td>\n",
       "      <td>6005</td>\n",
       "      <td>54000015.0</td>\n",
       "    </tr>\n",
       "    <tr>\n",
       "      <th>2</th>\n",
       "      <td>3</td>\n",
       "      <td>13</td>\n",
       "      <td>5988</td>\n",
       "      <td>54000015.0</td>\n",
       "    </tr>\n",
       "    <tr>\n",
       "      <th>3</th>\n",
       "      <td>4</td>\n",
       "      <td>13</td>\n",
       "      <td>5920</td>\n",
       "      <td>54000014.0</td>\n",
       "    </tr>\n",
       "    <tr>\n",
       "      <th>4</th>\n",
       "      <td>5</td>\n",
       "      <td>13</td>\n",
       "      <td>5912</td>\n",
       "      <td>54000014.0</td>\n",
       "    </tr>\n",
       "    <tr>\n",
       "      <th>...</th>\n",
       "      <td>...</td>\n",
       "      <td>...</td>\n",
       "      <td>...</td>\n",
       "      <td>...</td>\n",
       "    </tr>\n",
       "    <tr>\n",
       "      <th>167228</th>\n",
       "      <td>397</td>\n",
       "      <td>2</td>\n",
       "      <td>30</td>\n",
       "      <td>54000001.0</td>\n",
       "    </tr>\n",
       "    <tr>\n",
       "      <th>167229</th>\n",
       "      <td>398</td>\n",
       "      <td>2</td>\n",
       "      <td>30</td>\n",
       "      <td>54000001.0</td>\n",
       "    </tr>\n",
       "    <tr>\n",
       "      <th>167230</th>\n",
       "      <td>399</td>\n",
       "      <td>2</td>\n",
       "      <td>29</td>\n",
       "      <td>54000001.0</td>\n",
       "    </tr>\n",
       "    <tr>\n",
       "      <th>167231</th>\n",
       "      <td>400</td>\n",
       "      <td>2</td>\n",
       "      <td>29</td>\n",
       "      <td>54000001.0</td>\n",
       "    </tr>\n",
       "    <tr>\n",
       "      <th>167232</th>\n",
       "      <td>401</td>\n",
       "      <td>2</td>\n",
       "      <td>28</td>\n",
       "      <td>54000001.0</td>\n",
       "    </tr>\n",
       "  </tbody>\n",
       "</table>\n",
       "<p>167233 rows × 4 columns</p>\n",
       "</div>"
      ],
      "text/plain": [
       "        rank  expLevel  trophies    id_arena\n",
       "0          1        13      6148  54000015.0\n",
       "1          2        13      6005  54000015.0\n",
       "2          3        13      5988  54000015.0\n",
       "3          4        13      5920  54000014.0\n",
       "4          5        13      5912  54000014.0\n",
       "...      ...       ...       ...         ...\n",
       "167228   397         2        30  54000001.0\n",
       "167229   398         2        30  54000001.0\n",
       "167230   399         2        29  54000001.0\n",
       "167231   400         2        29  54000001.0\n",
       "167232   401         2        28  54000001.0\n",
       "\n",
       "[167233 rows x 4 columns]"
      ]
     },
     "execution_count": 4,
     "metadata": {},
     "output_type": "execute_result"
    }
   ],
   "source": [
    "df"
   ]
  },
  {
   "cell_type": "code",
   "execution_count": 10,
   "id": "43407edb",
   "metadata": {},
   "outputs": [],
   "source": [
    "x = df['expLevel']\n",
    "y = df['rank']"
   ]
  },
  {
   "cell_type": "code",
   "execution_count": 11,
   "id": "1c4a582a",
   "metadata": {},
   "outputs": [
    {
     "data": {
      "image/png": "[encoded data removed]",
      "text/plain": [
       "<Figure size 640x480 with 1 Axes>"
      ]
     },
     "metadata": {},
     "output_type": "display_data"
    }
   ],
   "source": [
    "plt.bar(x,y, align=\"edge\", width=0.5, )\n",
    "plt.title(\"Nama\")\n",
    "plt.xlabel(\"Kota\")\n",
    "plt.ylabel(\"Jumlah Kota\")\n",
    "plt.show()"
   ]
  },
  {
   "cell_type": "code",
   "execution_count": null,
   "id": "ec2b5c17",
   "metadata": {},
   "outputs": [],
   "source": []
  }
 ],
 "metadata": {
  "kernelspec": {
   "display_name": "Python 3 (ipykernel)",
   "language": "python",
   "name": "python3"
  },
  "language_info": {
   "codemirror_mode": {
    "name": "ipython",
    "version": 3
   },
   "file_extension": ".py",
   "mimetype": "text/x-python",
   "name": "python",
   "nbconvert_exporter": "python",
   "pygments_lexer": "ipython3",
   "version": "3.10.7"
  }
 },
 "nbformat": 4,
 "nbformat_minor": 5
}
