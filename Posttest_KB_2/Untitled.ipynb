{
 "cells": [
  {
   "cell_type": "markdown",
   "id": "e55df3ca",
   "metadata": {},
   "source": [
    "<h1>Import File Pandas</h1>"
   ]
  },
  {
   "cell_type": "code",
   "execution_count": null,
   "id": "557c0fe7",
   "metadata": {},
   "outputs": [],
   "source": [
    "import pandas as pd"
   ]
  },
  {
   "cell_type": "code",
   "execution_count": 2,
   "id": "0a010f2a",
   "metadata": {},
   "outputs": [],
   "source": [
    "df = pd.read_csv(\"players.csv\")"
   ]
  },
  {
   "cell_type": "markdown",
   "id": "01631e9c",
   "metadata": {},
   "source": [
    "<h1> Melihat Semua Dataset </h1>"
   ]
  },
  {
   "cell_type": "code",
   "execution_count": 3,
   "id": "e82d305f",
   "metadata": {},
   "outputs": [
    {
     "data": {
      "text/html": [
       "<div>\n",
       "<style scoped>\n",
       "    .dataframe tbody tr th:only-of-type {\n",
       "        vertical-align: middle;\n",
       "    }\n",
       "\n",
       "    .dataframe tbody tr th {\n",
       "        vertical-align: top;\n",
       "    }\n",
       "\n",
       "    .dataframe thead th {\n",
       "        text-align: right;\n",
       "    }\n",
       "</style>\n",
       "<table border=\"1\" class=\"dataframe\">\n",
       "  <thead>\n",
       "    <tr style=\"text-align: right;\">\n",
       "      <th></th>\n",
       "      <th>name_pais</th>\n",
       "      <th>name</th>\n",
       "      <th>tag</th>\n",
       "      <th>rank</th>\n",
       "      <th>expLevel</th>\n",
       "      <th>trophies</th>\n",
       "      <th>name_clan</th>\n",
       "      <th>tag_clan</th>\n",
       "      <th>id_arena</th>\n",
       "      <th>name_arena</th>\n",
       "    </tr>\n",
       "  </thead>\n",
       "  <tbody>\n",
       "    <tr>\n",
       "      <th>0</th>\n",
       "      <td>Afghanistan</td>\n",
       "      <td>f34r</td>\n",
       "      <td>#2UQ99VLU2</td>\n",
       "      <td>1</td>\n",
       "      <td>13</td>\n",
       "      <td>6148</td>\n",
       "      <td>PhatKatz</td>\n",
       "      <td>#G9LGQR</td>\n",
       "      <td>54000015</td>\n",
       "      <td>Master I</td>\n",
       "    </tr>\n",
       "    <tr>\n",
       "      <th>1</th>\n",
       "      <td>Afghanistan</td>\n",
       "      <td>Ķìňğ Ãìmãĺ</td>\n",
       "      <td>#QJRU92L</td>\n",
       "      <td>2</td>\n",
       "      <td>13</td>\n",
       "      <td>6005</td>\n",
       "      <td>God of War</td>\n",
       "      <td>#V2RUJ88</td>\n",
       "      <td>54000015</td>\n",
       "      <td>Master I</td>\n",
       "    </tr>\n",
       "    <tr>\n",
       "      <th>2</th>\n",
       "      <td>Afghanistan</td>\n",
       "      <td>L☯️I☯️Y☯️A☯️M</td>\n",
       "      <td>#800CLLPU8</td>\n",
       "      <td>3</td>\n",
       "      <td>13</td>\n",
       "      <td>5988</td>\n",
       "      <td>اسیرسرنوشت</td>\n",
       "      <td>#L2CC2L9C</td>\n",
       "      <td>54000015</td>\n",
       "      <td>Master I</td>\n",
       "    </tr>\n",
       "    <tr>\n",
       "      <th>3</th>\n",
       "      <td>Afghanistan</td>\n",
       "      <td>FRAIDOON ISHAQ</td>\n",
       "      <td>#9LLLJP8C</td>\n",
       "      <td>4</td>\n",
       "      <td>13</td>\n",
       "      <td>5920</td>\n",
       "      <td>Afghanistan</td>\n",
       "      <td>#PGV80J0P</td>\n",
       "      <td>54000014</td>\n",
       "      <td>Challenger III</td>\n",
       "    </tr>\n",
       "    <tr>\n",
       "      <th>4</th>\n",
       "      <td>Afghanistan</td>\n",
       "      <td>⚡king behzad⚡</td>\n",
       "      <td>#P9VLCU8Y9</td>\n",
       "      <td>5</td>\n",
       "      <td>13</td>\n",
       "      <td>5912</td>\n",
       "      <td>Delta Force</td>\n",
       "      <td>#LR8P9L8C</td>\n",
       "      <td>54000014</td>\n",
       "      <td>Challenger III</td>\n",
       "    </tr>\n",
       "    <tr>\n",
       "      <th>...</th>\n",
       "      <td>...</td>\n",
       "      <td>...</td>\n",
       "      <td>...</td>\n",
       "      <td>...</td>\n",
       "      <td>...</td>\n",
       "      <td>...</td>\n",
       "      <td>...</td>\n",
       "      <td>...</td>\n",
       "      <td>...</td>\n",
       "      <td>...</td>\n",
       "    </tr>\n",
       "    <tr>\n",
       "      <th>167228</th>\n",
       "      <td>Zimbabwe</td>\n",
       "      <td>SethyPlayz</td>\n",
       "      <td>#QQ2U8JCP8</td>\n",
       "      <td>397</td>\n",
       "      <td>2</td>\n",
       "      <td>30</td>\n",
       "      <td>NaN</td>\n",
       "      <td>NaN</td>\n",
       "      <td>54000001</td>\n",
       "      <td>Arena 1</td>\n",
       "    </tr>\n",
       "    <tr>\n",
       "      <th>167229</th>\n",
       "      <td>Zimbabwe</td>\n",
       "      <td>kingkong</td>\n",
       "      <td>#R0G2RYCJ2</td>\n",
       "      <td>398</td>\n",
       "      <td>2</td>\n",
       "      <td>30</td>\n",
       "      <td>NaN</td>\n",
       "      <td>NaN</td>\n",
       "      <td>54000001</td>\n",
       "      <td>Arena 1</td>\n",
       "    </tr>\n",
       "    <tr>\n",
       "      <th>167230</th>\n",
       "      <td>Zimbabwe</td>\n",
       "      <td>Lord Gargamel</td>\n",
       "      <td>#Y8Y2Y0PV0</td>\n",
       "      <td>399</td>\n",
       "      <td>2</td>\n",
       "      <td>29</td>\n",
       "      <td>NaN</td>\n",
       "      <td>NaN</td>\n",
       "      <td>54000001</td>\n",
       "      <td>Arena 1</td>\n",
       "    </tr>\n",
       "    <tr>\n",
       "      <th>167231</th>\n",
       "      <td>Zimbabwe</td>\n",
       "      <td>mattm8</td>\n",
       "      <td>#J089J0YCG</td>\n",
       "      <td>400</td>\n",
       "      <td>2</td>\n",
       "      <td>29</td>\n",
       "      <td>join</td>\n",
       "      <td>#YRUUY0C0</td>\n",
       "      <td>54000001</td>\n",
       "      <td>Arena 1</td>\n",
       "    </tr>\n",
       "    <tr>\n",
       "      <th>167232</th>\n",
       "      <td>Zimbabwe</td>\n",
       "      <td>sipoko</td>\n",
       "      <td>#R2U8RG0R8</td>\n",
       "      <td>401</td>\n",
       "      <td>2</td>\n",
       "      <td>28</td>\n",
       "      <td>NaN</td>\n",
       "      <td>NaN</td>\n",
       "      <td>54000001</td>\n",
       "      <td>Arena 1</td>\n",
       "    </tr>\n",
       "  </tbody>\n",
       "</table>\n",
       "<p>167233 rows × 10 columns</p>\n",
       "</div>"
      ],
      "text/plain": [
       "          name_pais            name         tag  rank  expLevel  trophies  \\\n",
       "0       Afghanistan            f34r  #2UQ99VLU2     1        13      6148   \n",
       "1       Afghanistan      Ķìňğ Ãìmãĺ    #QJRU92L     2        13      6005   \n",
       "2       Afghanistan   L☯️I☯️Y☯️A☯️M  #800CLLPU8     3        13      5988   \n",
       "3       Afghanistan  FRAIDOON ISHAQ   #9LLLJP8C     4        13      5920   \n",
       "4       Afghanistan   ⚡king behzad⚡  #P9VLCU8Y9     5        13      5912   \n",
       "...             ...             ...         ...   ...       ...       ...   \n",
       "167228     Zimbabwe      SethyPlayz  #QQ2U8JCP8   397         2        30   \n",
       "167229     Zimbabwe        kingkong  #R0G2RYCJ2   398         2        30   \n",
       "167230     Zimbabwe   Lord Gargamel  #Y8Y2Y0PV0   399         2        29   \n",
       "167231     Zimbabwe          mattm8  #J089J0YCG   400         2        29   \n",
       "167232     Zimbabwe          sipoko  #R2U8RG0R8   401         2        28   \n",
       "\n",
       "          name_clan   tag_clan  id_arena      name_arena  \n",
       "0          PhatKatz    #G9LGQR  54000015        Master I  \n",
       "1        God of War   #V2RUJ88  54000015        Master I  \n",
       "2        اسیرسرنوشت  #L2CC2L9C  54000015        Master I  \n",
       "3       Afghanistan  #PGV80J0P  54000014  Challenger III  \n",
       "4       Delta Force  #LR8P9L8C  54000014  Challenger III  \n",
       "...             ...        ...       ...             ...  \n",
       "167228          NaN        NaN  54000001         Arena 1  \n",
       "167229          NaN        NaN  54000001         Arena 1  \n",
       "167230          NaN        NaN  54000001         Arena 1  \n",
       "167231         join  #YRUUY0C0  54000001         Arena 1  \n",
       "167232          NaN        NaN  54000001         Arena 1  \n",
       "\n",
       "[167233 rows x 10 columns]"
      ]
     },
     "execution_count": 3,
     "metadata": {},
     "output_type": "execute_result"
    }
   ],
   "source": [
    "df"
   ]
  },
  {
   "cell_type": "markdown",
   "id": "735832b0",
   "metadata": {},
   "source": [
    "<h1> Jenis-Jenis Type Data </h1>"
   ]
  },
  {
   "cell_type": "code",
   "execution_count": 6,
   "id": "fa26fa8c",
   "metadata": {},
   "outputs": [
    {
     "data": {
      "text/plain": [
       "name_pais     object\n",
       "name          object\n",
       "tag           object\n",
       "rank           int64\n",
       "expLevel       int64\n",
       "trophies       int64\n",
       "name_clan     object\n",
       "tag_clan      object\n",
       "id_arena       int64\n",
       "name_arena    object\n",
       "dtype: object"
      ]
     },
     "execution_count": 6,
     "metadata": {},
     "output_type": "execute_result"
    }
   ],
   "source": [
    "df.dtypes"
   ]
  },
  {
   "cell_type": "markdown",
   "id": "666b3a2a",
   "metadata": {},
   "source": [
    "<h1>Informasi yang didapatkan adalah jumlah record, nama attribute, jumlah attribute dengan tipe objek, jumlah attribute dengan tipe angka, jumlah attribute yang memiliki nilai null.</h1>"
   ]
  },
  {
   "cell_type": "code",
   "execution_count": 13,
   "id": "dc159db0",
   "metadata": {},
   "outputs": [
    {
     "data": {
      "text/plain": [
       "isi record                                                    167233\n",
       "Nama attribute     Index(['name_pais', 'name', 'tag', 'rank', 'ex...\n",
       "Jumlah Objek                                                       6\n",
       "Jumlah angka                                                       4\n",
       "Jumlah NULL                                                        3\n",
       "dtype: object"
      ]
     },
     "execution_count": 13,
     "metadata": {},
     "output_type": "execute_result"
    }
   ],
   "source": [
    "isirecord = len(df)\n",
    "namaattribute = df.columns\n",
    "jumlahobjek = len(df.select_dtypes(include=['object']).columns)\n",
    "jumlahangka = len(df.select_dtypes(include=['int64']).columns)\n",
    "jumlahnULL = len(df.columns[df.isna().sum() > 0])\n",
    "\n",
    "dictionary_no1 = {\n",
    "    \"isi record\": isirecord,\n",
    "    \"Nama attribute \": namaattribute,\n",
    "    \"Jumlah Objek\": jumlahobjek,\n",
    "    \"Jumlah angka\": jumlahangka,\n",
    "    \"Jumlah NULL\": jumlahnULL,\n",
    "}\n",
    "\n",
    "pd.Series(dictionary_no1)"
   ]
  },
  {
   "cell_type": "markdown",
   "id": "bc4cf128",
   "metadata": {},
   "source": [
    "<h1>Tampilkan Nilai rata-rata dengan fungsi mean</h1>"
   ]
  },
  {
   "cell_type": "code",
   "execution_count": 14,
   "id": "af21079d",
   "metadata": {},
   "outputs": [
    {
     "data": {
      "text/plain": [
       "rank        4.690107e+02\n",
       "expLevel    1.185928e+01\n",
       "trophies    5.262625e+03\n",
       "id_arena    5.400002e+07\n",
       "dtype: float64"
      ]
     },
     "execution_count": 14,
     "metadata": {},
     "output_type": "execute_result"
    }
   ],
   "source": [
    "df.select_dtypes(include=['int64' , 'float64']).mean()"
   ]
  },
  {
   "cell_type": "markdown",
   "id": "11b1870f",
   "metadata": {},
   "source": [
    "<h1>Tampilkan Nilai Standar deviasi dengan fungsi std</h1>"
   ]
  },
  {
   "cell_type": "code",
   "execution_count": 15,
   "id": "debae6be",
   "metadata": {},
   "outputs": [
    {
     "data": {
      "text/plain": [
       "rank         291.745275\n",
       "expLevel       2.070822\n",
       "trophies    1193.166262\n",
       "id_arena      11.256253\n",
       "dtype: float64"
      ]
     },
     "execution_count": 15,
     "metadata": {},
     "output_type": "execute_result"
    }
   ],
   "source": [
    "df.select_dtypes(include=['int64', 'float64']).std()"
   ]
  },
  {
   "cell_type": "markdown",
   "id": "e4bd6c2c",
   "metadata": {},
   "source": [
    "<h1> Tampilkan Nilai Minimum dengan fungsi min </h1>"
   ]
  },
  {
   "cell_type": "code",
   "execution_count": 31,
   "id": "886eae03",
   "metadata": {},
   "outputs": [
    {
     "data": {
      "text/plain": [
       "rank               1.0\n",
       "expLevel           1.0\n",
       "trophies          23.0\n",
       "id_arena    54000001.0\n",
       "dtype: float64"
      ]
     },
     "execution_count": 31,
     "metadata": {},
     "output_type": "execute_result"
    }
   ],
   "source": [
    "df.select_dtypes(include=['int64', 'float64']).min()"
   ]
  },
  {
   "cell_type": "markdown",
   "id": "b7d27e77",
   "metadata": {},
   "source": [
    "<h1> Tampilkan Nilai Maksimum dengan fungsi max </h1>"
   ]
  },
  {
   "cell_type": "code",
   "execution_count": 16,
   "id": "3abe421f",
   "metadata": {},
   "outputs": [
    {
     "data": {
      "text/plain": [
       "rank            1000\n",
       "expLevel          13\n",
       "trophies        7408\n",
       "id_arena    54000056\n",
       "dtype: int64"
      ]
     },
     "execution_count": 16,
     "metadata": {},
     "output_type": "execute_result"
    }
   ],
   "source": [
    "df.select_dtypes(include=['int64', 'float64']).max()"
   ]
  },
  {
   "cell_type": "markdown",
   "id": "5d1e9fd1",
   "metadata": {},
   "source": [
    "<h1>Tampilkan Nilai Q1, Q2, dan Q3 dengan fungsi quantile </h1>"
   ]
  },
  {
   "cell_type": "code",
   "execution_count": 17,
   "id": "e5f97e37",
   "metadata": {},
   "outputs": [
    {
     "data": {
      "text/html": [
       "<div>\n",
       "<style scoped>\n",
       "    .dataframe tbody tr th:only-of-type {\n",
       "        vertical-align: middle;\n",
       "    }\n",
       "\n",
       "    .dataframe tbody tr th {\n",
       "        vertical-align: top;\n",
       "    }\n",
       "\n",
       "    .dataframe thead th {\n",
       "        text-align: right;\n",
       "    }\n",
       "</style>\n",
       "<table border=\"1\" class=\"dataframe\">\n",
       "  <thead>\n",
       "    <tr style=\"text-align: right;\">\n",
       "      <th></th>\n",
       "      <th>rank</th>\n",
       "      <th>expLevel</th>\n",
       "      <th>trophies</th>\n",
       "      <th>id_arena</th>\n",
       "    </tr>\n",
       "  </thead>\n",
       "  <tbody>\n",
       "    <tr>\n",
       "      <th>0.25</th>\n",
       "      <td>211.0</td>\n",
       "      <td>11.0</td>\n",
       "      <td>5182.0</td>\n",
       "      <td>54000013.0</td>\n",
       "    </tr>\n",
       "    <tr>\n",
       "      <th>0.50</th>\n",
       "      <td>454.0</td>\n",
       "      <td>13.0</td>\n",
       "      <td>5609.0</td>\n",
       "      <td>54000014.0</td>\n",
       "    </tr>\n",
       "    <tr>\n",
       "      <th>0.75</th>\n",
       "      <td>719.0</td>\n",
       "      <td>13.0</td>\n",
       "      <td>5839.0</td>\n",
       "      <td>54000014.0</td>\n",
       "    </tr>\n",
       "  </tbody>\n",
       "</table>\n",
       "</div>"
      ],
      "text/plain": [
       "       rank  expLevel  trophies    id_arena\n",
       "0.25  211.0      11.0    5182.0  54000013.0\n",
       "0.50  454.0      13.0    5609.0  54000014.0\n",
       "0.75  719.0      13.0    5839.0  54000014.0"
      ]
     },
     "execution_count": 17,
     "metadata": {},
     "output_type": "execute_result"
    }
   ],
   "source": [
    "df.select_dtypes(include=['int64', 'float64']).quantile([0.25,0.5,0.75])"
   ]
  },
  {
   "cell_type": "markdown",
   "id": "abb2c25b",
   "metadata": {},
   "source": [
    "<h1> Menampilkan fungsi describe </h1>"
   ]
  },
  {
   "cell_type": "code",
   "execution_count": 18,
   "id": "db4a2014",
   "metadata": {},
   "outputs": [
    {
     "data": {
      "text/html": [
       "<div>\n",
       "<style scoped>\n",
       "    .dataframe tbody tr th:only-of-type {\n",
       "        vertical-align: middle;\n",
       "    }\n",
       "\n",
       "    .dataframe tbody tr th {\n",
       "        vertical-align: top;\n",
       "    }\n",
       "\n",
       "    .dataframe thead th {\n",
       "        text-align: right;\n",
       "    }\n",
       "</style>\n",
       "<table border=\"1\" class=\"dataframe\">\n",
       "  <thead>\n",
       "    <tr style=\"text-align: right;\">\n",
       "      <th></th>\n",
       "      <th>rank</th>\n",
       "      <th>expLevel</th>\n",
       "      <th>trophies</th>\n",
       "      <th>id_arena</th>\n",
       "    </tr>\n",
       "  </thead>\n",
       "  <tbody>\n",
       "    <tr>\n",
       "      <th>count</th>\n",
       "      <td>167233.000000</td>\n",
       "      <td>167233.000000</td>\n",
       "      <td>167233.000000</td>\n",
       "      <td>1.672330e+05</td>\n",
       "    </tr>\n",
       "    <tr>\n",
       "      <th>mean</th>\n",
       "      <td>469.010668</td>\n",
       "      <td>11.859280</td>\n",
       "      <td>5262.624847</td>\n",
       "      <td>5.400002e+07</td>\n",
       "    </tr>\n",
       "    <tr>\n",
       "      <th>std</th>\n",
       "      <td>291.745275</td>\n",
       "      <td>2.070822</td>\n",
       "      <td>1193.166262</td>\n",
       "      <td>1.125625e+01</td>\n",
       "    </tr>\n",
       "    <tr>\n",
       "      <th>min</th>\n",
       "      <td>1.000000</td>\n",
       "      <td>1.000000</td>\n",
       "      <td>23.000000</td>\n",
       "      <td>5.400000e+07</td>\n",
       "    </tr>\n",
       "    <tr>\n",
       "      <th>25%</th>\n",
       "      <td>211.000000</td>\n",
       "      <td>11.000000</td>\n",
       "      <td>5182.000000</td>\n",
       "      <td>5.400001e+07</td>\n",
       "    </tr>\n",
       "    <tr>\n",
       "      <th>50%</th>\n",
       "      <td>454.000000</td>\n",
       "      <td>13.000000</td>\n",
       "      <td>5609.000000</td>\n",
       "      <td>5.400001e+07</td>\n",
       "    </tr>\n",
       "    <tr>\n",
       "      <th>75%</th>\n",
       "      <td>719.000000</td>\n",
       "      <td>13.000000</td>\n",
       "      <td>5839.000000</td>\n",
       "      <td>5.400001e+07</td>\n",
       "    </tr>\n",
       "    <tr>\n",
       "      <th>max</th>\n",
       "      <td>1000.000000</td>\n",
       "      <td>13.000000</td>\n",
       "      <td>7408.000000</td>\n",
       "      <td>5.400006e+07</td>\n",
       "    </tr>\n",
       "  </tbody>\n",
       "</table>\n",
       "</div>"
      ],
      "text/plain": [
       "                rank       expLevel       trophies      id_arena\n",
       "count  167233.000000  167233.000000  167233.000000  1.672330e+05\n",
       "mean      469.010668      11.859280    5262.624847  5.400002e+07\n",
       "std       291.745275       2.070822    1193.166262  1.125625e+01\n",
       "min         1.000000       1.000000      23.000000  5.400000e+07\n",
       "25%       211.000000      11.000000    5182.000000  5.400001e+07\n",
       "50%       454.000000      13.000000    5609.000000  5.400001e+07\n",
       "75%       719.000000      13.000000    5839.000000  5.400001e+07\n",
       "max      1000.000000      13.000000    7408.000000  5.400006e+07"
      ]
     },
     "execution_count": 18,
     "metadata": {},
     "output_type": "execute_result"
    }
   ],
   "source": [
    "df.describe()"
   ]
  },
  {
   "cell_type": "markdown",
   "id": "6f4ed7ac",
   "metadata": {},
   "source": [
    "<h1> Tampilkan nilai korelasi attribute bertipe angka </h1>"
   ]
  },
  {
   "cell_type": "code",
   "execution_count": 19,
   "id": "ca70a38c",
   "metadata": {},
   "outputs": [
    {
     "data": {
      "text/html": [
       "<div>\n",
       "<style scoped>\n",
       "    .dataframe tbody tr th:only-of-type {\n",
       "        vertical-align: middle;\n",
       "    }\n",
       "\n",
       "    .dataframe tbody tr th {\n",
       "        vertical-align: top;\n",
       "    }\n",
       "\n",
       "    .dataframe thead th {\n",
       "        text-align: right;\n",
       "    }\n",
       "</style>\n",
       "<table border=\"1\" class=\"dataframe\">\n",
       "  <thead>\n",
       "    <tr style=\"text-align: right;\">\n",
       "      <th></th>\n",
       "      <th>rank</th>\n",
       "      <th>expLevel</th>\n",
       "      <th>trophies</th>\n",
       "      <th>id_arena</th>\n",
       "    </tr>\n",
       "  </thead>\n",
       "  <tbody>\n",
       "    <tr>\n",
       "      <th>rank</th>\n",
       "      <td>1.000000</td>\n",
       "      <td>-0.047208</td>\n",
       "      <td>-0.078044</td>\n",
       "      <td>0.016533</td>\n",
       "    </tr>\n",
       "    <tr>\n",
       "      <th>expLevel</th>\n",
       "      <td>-0.047208</td>\n",
       "      <td>1.000000</td>\n",
       "      <td>0.925230</td>\n",
       "      <td>-0.002965</td>\n",
       "    </tr>\n",
       "    <tr>\n",
       "      <th>trophies</th>\n",
       "      <td>-0.078044</td>\n",
       "      <td>0.925230</td>\n",
       "      <td>1.000000</td>\n",
       "      <td>0.071611</td>\n",
       "    </tr>\n",
       "    <tr>\n",
       "      <th>id_arena</th>\n",
       "      <td>0.016533</td>\n",
       "      <td>-0.002965</td>\n",
       "      <td>0.071611</td>\n",
       "      <td>1.000000</td>\n",
       "    </tr>\n",
       "  </tbody>\n",
       "</table>\n",
       "</div>"
      ],
      "text/plain": [
       "              rank  expLevel  trophies  id_arena\n",
       "rank      1.000000 -0.047208 -0.078044  0.016533\n",
       "expLevel -0.047208  1.000000  0.925230 -0.002965\n",
       "trophies -0.078044  0.925230  1.000000  0.071611\n",
       "id_arena  0.016533 -0.002965  0.071611  1.000000"
      ]
     },
     "execution_count": 19,
     "metadata": {},
     "output_type": "execute_result"
    }
   ],
   "source": [
    "df.select_dtypes(include=['int64', 'float64']).corr()"
   ]
  },
  {
   "cell_type": "markdown",
   "id": "0b3a4919",
   "metadata": {},
   "source": [
    "<h1> Rubah nilai salah satu attribute bertipe angka menjadi dari desimal menjadi bilangan bulat </h1>"
   ]
  },
  {
   "cell_type": "code",
   "execution_count": 24,
   "id": "f568427d",
   "metadata": {},
   "outputs": [
    {
     "data": {
      "text/plain": [
       "dtype('int64')"
      ]
     },
     "execution_count": 24,
     "metadata": {},
     "output_type": "execute_result"
    }
   ],
   "source": [
    "df[\"id_arena\"] = df[\"id_arena\"].astype('int64', errors='ignore')\n",
    "df[\"id_arena\"].dtypes"
   ]
  },
  {
   "cell_type": "code",
   "execution_count": 25,
   "id": "fba4d56e",
   "metadata": {},
   "outputs": [],
   "source": [
    "df[\"id_arena\"] = df[\"id_arena\"].astype('float64', errors='ignore')"
   ]
  },
  {
   "cell_type": "code",
   "execution_count": 27,
   "id": "83133897",
   "metadata": {},
   "outputs": [
    {
     "data": {
      "text/plain": [
       "0         54000015\n",
       "1         54000015\n",
       "2         54000015\n",
       "3         54000014\n",
       "4         54000014\n",
       "            ...   \n",
       "167228    54000001\n",
       "167229    54000001\n",
       "167230    54000001\n",
       "167231    54000001\n",
       "167232    54000001\n",
       "Name: id_arena, Length: 167233, dtype: int64"
      ]
     },
     "execution_count": 27,
     "metadata": {},
     "output_type": "execute_result"
    }
   ],
   "source": [
    "df = df.fillna(0)\n",
    "df.id_arena.astype('int64')"
   ]
  },
  {
   "cell_type": "markdown",
   "id": "e1fe3913",
   "metadata": {},
   "source": [
    "<h1> Tampilkan 10 record pertama dari attribute bertipe angka </h1>"
   ]
  },
  {
   "cell_type": "code",
   "execution_count": 28,
   "id": "59838537",
   "metadata": {},
   "outputs": [
    {
     "data": {
      "text/html": [
       "<div>\n",
       "<style scoped>\n",
       "    .dataframe tbody tr th:only-of-type {\n",
       "        vertical-align: middle;\n",
       "    }\n",
       "\n",
       "    .dataframe tbody tr th {\n",
       "        vertical-align: top;\n",
       "    }\n",
       "\n",
       "    .dataframe thead th {\n",
       "        text-align: right;\n",
       "    }\n",
       "</style>\n",
       "<table border=\"1\" class=\"dataframe\">\n",
       "  <thead>\n",
       "    <tr style=\"text-align: right;\">\n",
       "      <th></th>\n",
       "      <th>rank</th>\n",
       "      <th>expLevel</th>\n",
       "      <th>trophies</th>\n",
       "      <th>id_arena</th>\n",
       "    </tr>\n",
       "  </thead>\n",
       "  <tbody>\n",
       "    <tr>\n",
       "      <th>0</th>\n",
       "      <td>1</td>\n",
       "      <td>13</td>\n",
       "      <td>6148</td>\n",
       "      <td>54000015.0</td>\n",
       "    </tr>\n",
       "    <tr>\n",
       "      <th>1</th>\n",
       "      <td>2</td>\n",
       "      <td>13</td>\n",
       "      <td>6005</td>\n",
       "      <td>54000015.0</td>\n",
       "    </tr>\n",
       "    <tr>\n",
       "      <th>2</th>\n",
       "      <td>3</td>\n",
       "      <td>13</td>\n",
       "      <td>5988</td>\n",
       "      <td>54000015.0</td>\n",
       "    </tr>\n",
       "    <tr>\n",
       "      <th>3</th>\n",
       "      <td>4</td>\n",
       "      <td>13</td>\n",
       "      <td>5920</td>\n",
       "      <td>54000014.0</td>\n",
       "    </tr>\n",
       "    <tr>\n",
       "      <th>4</th>\n",
       "      <td>5</td>\n",
       "      <td>13</td>\n",
       "      <td>5912</td>\n",
       "      <td>54000014.0</td>\n",
       "    </tr>\n",
       "    <tr>\n",
       "      <th>5</th>\n",
       "      <td>6</td>\n",
       "      <td>13</td>\n",
       "      <td>5863</td>\n",
       "      <td>54000014.0</td>\n",
       "    </tr>\n",
       "    <tr>\n",
       "      <th>6</th>\n",
       "      <td>7</td>\n",
       "      <td>13</td>\n",
       "      <td>5861</td>\n",
       "      <td>54000014.0</td>\n",
       "    </tr>\n",
       "    <tr>\n",
       "      <th>7</th>\n",
       "      <td>8</td>\n",
       "      <td>13</td>\n",
       "      <td>5860</td>\n",
       "      <td>54000014.0</td>\n",
       "    </tr>\n",
       "    <tr>\n",
       "      <th>8</th>\n",
       "      <td>9</td>\n",
       "      <td>12</td>\n",
       "      <td>5851</td>\n",
       "      <td>54000014.0</td>\n",
       "    </tr>\n",
       "    <tr>\n",
       "      <th>9</th>\n",
       "      <td>10</td>\n",
       "      <td>13</td>\n",
       "      <td>5846</td>\n",
       "      <td>54000014.0</td>\n",
       "    </tr>\n",
       "  </tbody>\n",
       "</table>\n",
       "</div>"
      ],
      "text/plain": [
       "   rank  expLevel  trophies    id_arena\n",
       "0     1        13      6148  54000015.0\n",
       "1     2        13      6005  54000015.0\n",
       "2     3        13      5988  54000015.0\n",
       "3     4        13      5920  54000014.0\n",
       "4     5        13      5912  54000014.0\n",
       "5     6        13      5863  54000014.0\n",
       "6     7        13      5861  54000014.0\n",
       "7     8        13      5860  54000014.0\n",
       "8     9        12      5851  54000014.0\n",
       "9    10        13      5846  54000014.0"
      ]
     },
     "execution_count": 28,
     "metadata": {},
     "output_type": "execute_result"
    }
   ],
   "source": [
    "df.select_dtypes(include=['int64', 'float64']).head(10)"
   ]
  },
  {
   "cell_type": "markdown",
   "id": "8a92764c",
   "metadata": {},
   "source": [
    "<h1> Simpan dataset dengan attribute bertipe angka ke dalam file CSV </h1>"
   ]
  },
  {
   "cell_type": "code",
   "execution_count": 32,
   "id": "51ff0304",
   "metadata": {},
   "outputs": [],
   "source": [
    "df.select_dtypes(include=['int64', 'float64']).to_csv(\"bertipe_angka_players.csv\", index=False)"
   ]
  },
  {
   "cell_type": "code",
   "execution_count": null,
   "id": "4f45a9ff",
   "metadata": {},
   "outputs": [],
   "source": []
  }
 ],
 "metadata": {
  "kernelspec": {
   "display_name": "Python 3 (ipykernel)",
   "language": "python",
   "name": "python3"
  },
  "language_info": {
   "codemirror_mode": {
    "name": "ipython",
    "version": 3
   },
   "file_extension": ".py",
   "mimetype": "text/x-python",
   "name": "python",
   "nbconvert_exporter": "python",
   "pygments_lexer": "ipython3",
   "version": "3.10.7"
  }
 },
 "nbformat": 4,
 "nbformat_minor": 5
}
