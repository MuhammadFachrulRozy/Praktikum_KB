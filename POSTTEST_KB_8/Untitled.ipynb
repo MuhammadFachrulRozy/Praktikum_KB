{
 "cells": [
  {
   "cell_type": "markdown",
   "id": "8e26293b",
   "metadata": {},
   "source": [
    "## last Posttest 8 ##\n",
    "## 2009106091 ##\n",
    "## Muhammad Fachrul Rozy ##"
   ]
  },
  {
   "cell_type": "code",
   "execution_count": 106,
   "id": "bc54d883",
   "metadata": {},
   "outputs": [],
   "source": [
    "import pandas as pd\n",
    "import matplotlib.pyplot as plt\n",
    "import tensorflow as tf\n",
    "from sklearn.preprocessing import OrdinalEncoder\n",
    "from sklearn.model_selection import train_test_split\n",
    "import tensorflow as tf\n",
    "import matplotlib.pyplot as plt\n",
    "import tensorflow.keras.datasets as tfds\n",
    "import numpy as np\n",
    "from keras.models import load_model\n",
    "import sys\n",
    "from keras.models import Sequential\n",
    "from keras.layers import Conv2D, MaxPooling2D,Dropout\n",
    "from keras.layers import Dense, Activation, Flatten\n",
    "from keras.utils import to_categorical\n",
    "from keras import backend as K \n",
    "from sklearn.model_selection import train_test_split\n",
    "from keras import callbacks\n"
   ]
  },
  {
   "cell_type": "markdown",
   "id": "d1ab2766",
   "metadata": {},
   "source": [
    "## read data mnist ##"
   ]
  },
  {
   "cell_type": "code",
   "execution_count": 107,
   "id": "ede07677",
   "metadata": {},
   "outputs": [
    {
     "name": "stdout",
     "output_type": "stream",
     "text": [
      "jumlah x train: 60000 sepatu\n",
      "jumlah y train: 60000 sepatu\n",
      "jumlah x test: 10000 sepatu\n",
      "jumlah y test: 10000 sepatu\n"
     ]
    }
   ],
   "source": [
    "(train_x, train_y), (test_x, test_y) = tfds.mnist.load_data()\n",
    "print(f'jumlah x train: {len(train_x)} sepatu',\n",
    "      f'jumlah y train: {len(train_y)} sepatu',\n",
    "      f'jumlah x test: {len(test_x)} sepatu',\n",
    "      f'jumlah y test: {len(test_y)} sepatu',\n",
    "      sep = '\\n'\n",
    "     )"
   ]
  },
  {
   "cell_type": "markdown",
   "id": "cdb873b5",
   "metadata": {},
   "source": [
    "## label encoding ##"
   ]
  },
  {
   "cell_type": "code",
   "execution_count": 108,
   "id": "1ffbd61f",
   "metadata": {},
   "outputs": [],
   "source": [
    "num_class = 12\n",
    "train_y = tf.keras.utils.to_categorical(train_y, num_class)\n",
    "test_y = tf.keras.utils.to_categorical(test_y, num_class)"
   ]
  },
  {
   "cell_type": "code",
   "execution_count": 109,
   "id": "e907ed62",
   "metadata": {},
   "outputs": [],
   "source": [
    "testing_x = test_x.copy()"
   ]
  },
  {
   "cell_type": "markdown",
   "id": "5802cf8a",
   "metadata": {},
   "source": [
    "## Tampilkan Gambar dari dataset ##"
   ]
  },
  {
   "cell_type": "code",
   "execution_count": 110,
   "id": "cf1cb214",
   "metadata": {},
   "outputs": [
    {
     "data": {
      "text/plain": [
       "<matplotlib.image.AxesImage at 0x1b63e26ac80>"
      ]
     },
     "execution_count": 110,
     "metadata": {},
     "output_type": "execute_result"
    },
    {
     "data": {
      "image/png": "[encoded data removed]",
      "text/plain": [
       "<Figure size 640x480 with 1 Axes>"
      ]
     },
     "metadata": {},
     "output_type": "display_data"
    }
   ],
   "source": [
    "plt.imshow(train_x[15])"
   ]
  },
  {
   "cell_type": "markdown",
   "id": "9126e71d",
   "metadata": {},
   "source": [
    "## Reshaping ##"
   ]
  },
  {
   "cell_type": "code",
   "execution_count": 111,
   "id": "803b7467",
   "metadata": {},
   "outputs": [],
   "source": [
    "train_x = train_x.reshape(60000, 784)\n",
    "test_x = test_x.reshape(10000, 784)"
   ]
  },
  {
   "cell_type": "code",
   "execution_count": 112,
   "id": "7c9cff1d",
   "metadata": {},
   "outputs": [],
   "source": [
    "train_x = train_x.astype('float32')\n",
    "test_x = test_x.astype('float32')"
   ]
  },
  {
   "cell_type": "markdown",
   "id": "54f561c6",
   "metadata": {},
   "source": [
    "## Membuat model dengan sequential model ##"
   ]
  },
  {
   "cell_type": "code",
   "execution_count": 113,
   "id": "55999862",
   "metadata": {},
   "outputs": [
    {
     "name": "stdout",
     "output_type": "stream",
     "text": [
      "Model: \"sequential_5\"\n",
      "_________________________________________________________________\n",
      " Layer (type)                Output Shape              Param #   \n",
      "=================================================================\n",
      " dense_29 (Dense)            (None, 32)                25120     \n",
      "                                                                 \n",
      " dense_30 (Dense)            (None, 12)                396       \n",
      "                                                                 \n",
      "=================================================================\n",
      "Total params: 25,516\n",
      "Trainable params: 25,516\n",
      "Non-trainable params: 0\n",
      "_________________________________________________________________\n"
     ]
    }
   ],
   "source": [
    "model = tf.keras.Sequential([\n",
    "    tf.keras.layers.Dense(32, activation = 'relu', input_dim = 784),\n",
    "    tf.keras.layers.Dense(num_class, activation = 'softmax')\n",
    "])\n",
    "model.summary()"
   ]
  },
  {
   "cell_type": "markdown",
   "id": "ae78d79a",
   "metadata": {},
   "source": [
    "## Compile Model ##"
   ]
  },
  {
   "cell_type": "code",
   "execution_count": 114,
   "id": "b71c64e0",
   "metadata": {},
   "outputs": [],
   "source": [
    "model.compile(\n",
    "    optimizer = tf.keras.optimizers.Adam(),\n",
    "    loss = tf.keras.losses.categorical_crossentropy,\n",
    "    metrics = ['accuracy']\n",
    ")"
   ]
  },
  {
   "cell_type": "markdown",
   "id": "aa237581",
   "metadata": {},
   "source": [
    "## Training Model ##"
   ]
  },
  {
   "cell_type": "code",
   "execution_count": 115,
   "id": "16165454",
   "metadata": {},
   "outputs": [
    {
     "name": "stdout",
     "output_type": "stream",
     "text": [
      "Epoch 1/10\n",
      "250/250 - 3s - loss: 7.3972 - accuracy: 0.4128 - val_loss: 1.7391 - val_accuracy: 0.4734 - 3s/epoch - 11ms/step\n",
      "Epoch 2/10\n",
      "250/250 - 2s - loss: 1.4337 - accuracy: 0.5528 - val_loss: 1.3001 - val_accuracy: 0.6168 - 2s/epoch - 7ms/step\n",
      "Epoch 3/10\n",
      "250/250 - 2s - loss: 1.0841 - accuracy: 0.6966 - val_loss: 1.0475 - val_accuracy: 0.7468 - 2s/epoch - 6ms/step\n",
      "Epoch 4/10\n",
      "250/250 - 2s - loss: 0.8837 - accuracy: 0.7763 - val_loss: 0.8980 - val_accuracy: 0.7917 - 2s/epoch - 6ms/step\n",
      "Epoch 5/10\n",
      "250/250 - 2s - loss: 0.7491 - accuracy: 0.8126 - val_loss: 0.7823 - val_accuracy: 0.8312 - 2s/epoch - 6ms/step\n",
      "Epoch 6/10\n",
      "250/250 - 2s - loss: 0.6491 - accuracy: 0.8363 - val_loss: 0.6948 - val_accuracy: 0.8459 - 2s/epoch - 6ms/step\n",
      "Epoch 7/10\n",
      "250/250 - 2s - loss: 0.5731 - accuracy: 0.8551 - val_loss: 0.6373 - val_accuracy: 0.8558 - 2s/epoch - 7ms/step\n",
      "Epoch 8/10\n",
      "250/250 - 2s - loss: 0.5163 - accuracy: 0.8673 - val_loss: 0.6227 - val_accuracy: 0.8721 - 2s/epoch - 7ms/step\n",
      "Epoch 9/10\n",
      "250/250 - 2s - loss: 0.4740 - accuracy: 0.8766 - val_loss: 0.5848 - val_accuracy: 0.8759 - 2s/epoch - 7ms/step\n",
      "Epoch 10/10\n",
      "250/250 - 2s - loss: 0.4412 - accuracy: 0.8868 - val_loss: 0.5395 - val_accuracy: 0.8835 - 2s/epoch - 7ms/step\n"
     ]
    }
   ],
   "source": [
    "history = model.fit(\n",
    "    x = train_x, y= train_y,\n",
    "    validation_data = (test_x, test_y),\n",
    "    epochs = 10,\n",
    "    steps_per_epoch = 250,\n",
    "    verbose = 2\n",
    ")"
   ]
  }
 ],
 "metadata": {
  "kernelspec": {
   "display_name": "Python 3 (ipykernel)",
   "language": "python",
   "name": "python3"
  },
  "language_info": {
   "codemirror_mode": {
    "name": "ipython",
    "version": 3
   },
   "file_extension": ".py",
   "mimetype": "text/x-python",
   "name": "python",
   "nbconvert_exporter": "python",
   "pygments_lexer": "ipython3",
   "version": "3.10.7"
  }
 },
 "nbformat": 4,
 "nbformat_minor": 5
}
