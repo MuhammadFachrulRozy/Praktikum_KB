{
 "cells": [
  {
   "cell_type": "markdown",
   "id": "51b1d7a6",
   "metadata": {},
   "source": [
    "<h3> posttest 7 </h3>"
   ]
  },
  {
   "cell_type": "markdown",
   "id": "6f0edd83",
   "metadata": {},
   "source": [
    "<h3> Import Library </h3>"
   ]
  },
  {
   "cell_type": "code",
   "execution_count": 1,
   "id": "a2494a18",
   "metadata": {},
   "outputs": [],
   "source": [
    "import numpy as np\n",
    "import tensorflow as tf"
   ]
  },
  {
   "cell_type": "markdown",
   "id": "da8c1a6b",
   "metadata": {},
   "source": [
    "<h3> Membuat random tensor dengan shape 5:5 </h3>"
   ]
  },
  {
   "cell_type": "code",
   "execution_count": 2,
   "id": "af538c5a",
   "metadata": {},
   "outputs": [
    {
     "data": {
      "text/plain": [
       "<tf.Tensor: shape=(5, 5), dtype=float32, numpy=\n",
       "array([[-0.8113182 ,  1.4845988 ,  0.06532937, -2.4427042 ,  0.0992484 ],\n",
       "       [ 0.5912243 ,  0.59282297, -2.1229296 , -0.72289723, -0.05627038],\n",
       "       [ 0.6435448 , -0.26432407,  1.8566332 ,  0.5678417 , -0.3828359 ],\n",
       "       [-1.4853433 ,  1.2617711 , -0.02530608, -0.2646297 ,  1.5328138 ],\n",
       "       [-1.7429771 , -0.43789294, -0.56601   ,  0.32066926,  1.132831  ]],\n",
       "      dtype=float32)>"
      ]
     },
     "execution_count": 2,
     "metadata": {},
     "output_type": "execute_result"
    }
   ],
   "source": [
    "random_tensor = tf.random.normal([5,5], mean=0, stddev=1, seed=1)\n",
    "random_tensor"
   ]
  },
  {
   "cell_type": "markdown",
   "id": "1c5b7b03",
   "metadata": {},
   "source": [
    "<h3> Membuat prime tensor list bilangan prima dengan shape 5:5 </h3>"
   ]
  },
  {
   "cell_type": "code",
   "execution_count": 3,
   "id": "5224a99f",
   "metadata": {},
   "outputs": [
    {
     "data": {
      "text/plain": [
       "<tf.Tensor: shape=(5, 5), dtype=float32, numpy=\n",
       "array([[  2.,   3.,   5.,   7.,  11.],\n",
       "       [ 13.,  17.,  19.,  23.,  29.],\n",
       "       [ 31.,  37.,  41.,  43.,  47.],\n",
       "       [ 53.,  59.,  61.,  71.,  73.],\n",
       "       [ 79.,  83.,  89.,  97., 101.]], dtype=float32)>"
      ]
     },
     "execution_count": 3,
     "metadata": {},
     "output_type": "execute_result"
    }
   ],
   "source": [
    "prime_tensor = tf.constant([2, 3, 5, 7, 11, 13, 17, 19, 23, 29, 31, 37, 41, 43, 47, 53, 59, 61, 71, 73, 79, 83, 89, 97, 101], \n",
    "                           shape=[5, 5], dtype=tf.float32)\n",
    "prime_tensor"
   ]
  },
  {
   "cell_type": "markdown",
   "id": "2fcb9adf",
   "metadata": {},
   "source": [
    "<h3> Perhitungan aritmatika add (pertambahan) </h3>"
   ]
  },
  {
   "cell_type": "code",
   "execution_count": 5,
   "id": "1f88168f",
   "metadata": {},
   "outputs": [
    {
     "name": "stdout",
     "output_type": "stream",
     "text": [
      "tf.Tensor(\n",
      "[[  1.1886818   4.4845986   5.0653296   4.557296   11.099248 ]\n",
      " [ 13.591225   17.592823   16.877071   22.277103   28.94373  ]\n",
      " [ 31.643545   36.735676   42.856632   43.56784    46.617165 ]\n",
      " [ 51.514656   60.261772   60.974693   70.73537    74.532814 ]\n",
      " [ 77.25702    82.5621     88.43399    97.32067   102.13283  ]], shape=(5, 5), dtype=float32)\n"
     ]
    }
   ],
   "source": [
    "print(tf.add(random_tensor, prime_tensor))"
   ]
  },
  {
   "cell_type": "markdown",
   "id": "5b595abd",
   "metadata": {},
   "source": [
    "<h3> Perhitungan aritmatika multiply (perkalian) </h3>"
   ]
  },
  {
   "cell_type": "code",
   "execution_count": 6,
   "id": "a510df05",
   "metadata": {},
   "outputs": [
    {
     "name": "stdout",
     "output_type": "stream",
     "text": [
      "tf.Tensor(\n",
      "[[  -1.6226364     4.4537964     0.32664686  -17.09893       1.0917324 ]\n",
      " [   7.685916     10.077991    -40.335663    -16.626637     -1.6318411 ]\n",
      " [  19.949888     -9.77999      76.12196      24.417194    -17.993286  ]\n",
      " [ -78.7232       74.444496     -1.5436709   -18.788708    111.89541   ]\n",
      " [-137.69519     -36.345116    -50.37489      31.10492     114.41593   ]], shape=(5, 5), dtype=float32)\n"
     ]
    }
   ],
   "source": [
    "print(tf.multiply(random_tensor, prime_tensor))"
   ]
  },
  {
   "cell_type": "markdown",
   "id": "146f83e5",
   "metadata": {},
   "source": [
    "<h3> Perhitungan aritmatika pow (pangkat) </h3>"
   ]
  },
  {
   "cell_type": "code",
   "execution_count": 7,
   "id": "14ac7379",
   "metadata": {},
   "outputs": [
    {
     "name": "stdout",
     "output_type": "stream",
     "text": [
      "tf.Tensor(\n",
      "[[ 6.58237278e-01  3.27210546e+00  1.18998764e-06 -5.18914917e+02\n",
      "   9.20362137e-12]\n",
      " [ 1.07839960e-03  1.37951167e-04 -1.62845650e+06 -5.73800469e-04\n",
      "  -5.72948387e-37]\n",
      " [ 1.16397109e-06 -4.15966456e-22  1.04176673e+11  2.70254808e-11\n",
      "  -2.52112615e-20]\n",
      " [-1.27886054e+09  9.07514625e+05 -0.00000000e+00 -0.00000000e+00\n",
      "   3.47317018e+13]\n",
      " [-1.15356923e+19 -1.71214119e-30 -1.00310215e-22  0.00000000e+00\n",
      "   2.95581156e+05]], shape=(5, 5), dtype=float32)\n"
     ]
    }
   ],
   "source": [
    "print(tf.pow(random_tensor, prime_tensor))"
   ]
  },
  {
   "cell_type": "markdown",
   "id": "d9670651",
   "metadata": {},
   "source": [
    "<h3> Perhitungan aritmatika divide (pembagian) </h3>"
   ]
  },
  {
   "cell_type": "code",
   "execution_count": 8,
   "id": "92575dbd",
   "metadata": {},
   "outputs": [
    {
     "name": "stdout",
     "output_type": "stream",
     "text": [
      "tf.Tensor(\n",
      "[[-4.0565911e-01  4.9486625e-01  1.3065875e-02 -3.4895775e-01\n",
      "   9.0225823e-03]\n",
      " [ 4.5478795e-02  3.4871940e-02 -1.1173314e-01 -3.1430315e-02\n",
      "  -1.9403580e-03]\n",
      " [ 2.0759510e-02 -7.1438937e-03  4.5283735e-02  1.3205621e-02\n",
      "  -8.1454450e-03]\n",
      " [-2.8025346e-02  2.1385951e-02 -4.1485377e-04 -3.7271788e-03\n",
      "   2.0997450e-02]\n",
      " [-2.2063002e-02 -5.2758185e-03 -6.3596629e-03  3.3058687e-03\n",
      "   1.1216149e-02]], shape=(5, 5), dtype=float32)\n"
     ]
    }
   ],
   "source": [
    "print(tf.divide(random_tensor, prime_tensor))"
   ]
  },
  {
   "cell_type": "markdown",
   "id": "80666d5d",
   "metadata": {},
   "source": [
    "<h3> Perhitungan aritmatika math.log (logaritma) </h3>"
   ]
  },
  {
   "cell_type": "code",
   "execution_count": 9,
   "id": "e3c70369",
   "metadata": {},
   "outputs": [
    {
     "name": "stdout",
     "output_type": "stream",
     "text": [
      "tf.Tensor(\n",
      "[[        nan  0.39514455 -2.7283134          nan -2.3101294 ]\n",
      " [-0.5255598  -0.52285945         nan         nan         nan]\n",
      " [-0.44076362         nan  0.61876476 -0.5659126          nan]\n",
      " [        nan  0.23251635         nan         nan  0.42710513]\n",
      " [        nan         nan         nan -1.1373451   0.12471979]], shape=(5, 5), dtype=float32)\n"
     ]
    }
   ],
   "source": [
    "print(tf.math.log(random_tensor, prime_tensor))"
   ]
  },
  {
   "cell_type": "markdown",
   "id": "8cc06653",
   "metadata": {},
   "source": [
    "<h3> Nilai maximal dari random_tensor </h3>"
   ]
  },
  {
   "cell_type": "code",
   "execution_count": 10,
   "id": "7c357468",
   "metadata": {},
   "outputs": [
    {
     "name": "stdout",
     "output_type": "stream",
     "text": [
      "input random tensor: [[ 1.5152245  -1.179014    0.84397984 -1.166524   -0.11707007]\n",
      " [ 0.02132358 -2.0961254  -1.333173   -0.577015    0.20757355]\n",
      " [ 0.30550483  0.01067342 -1.3776112   2.6070046   0.96963745]\n",
      " [-0.54320794 -2.109365   -0.548051   -1.4452394   0.31797805]\n",
      " [ 0.143189    0.68163633  0.29596624  0.9477579   0.18700561]]\n",
      "maximum value berdasarkan kolom: [0 4 0 2 2]\n",
      "maximum value berdasarkan baris: [0 4 3 4 3]\n"
     ]
    }
   ],
   "source": [
    "argmax_random = tf.random.normal([5,5])\n",
    "print(\"input random tensor:\",argmax_random.numpy())\n",
    "max_random_1 = tf.argmax(argmax_random, axis = 0)\n",
    "max_random_2 = tf.argmax(argmax_random, axis = 1)\n",
    "print(\"maximum value berdasarkan kolom:\",max_random_1.numpy())\n",
    "print(\"maximum value berdasarkan baris:\",max_random_2.numpy())"
   ]
  },
  {
   "cell_type": "markdown",
   "id": "8998d750",
   "metadata": {},
   "source": [
    "<h3> Nilai minimal dari random_tensor </h3>"
   ]
  },
  {
   "cell_type": "code",
   "execution_count": 11,
   "id": "d4d0a6cc",
   "metadata": {},
   "outputs": [
    {
     "name": "stdout",
     "output_type": "stream",
     "text": [
      "input random tensor: [[ 0.6189218   0.6742228  -0.4954243   0.38154915 -1.5772266 ]\n",
      " [ 0.37696096 -0.3027142   1.4717119   0.6067738   0.23062328]\n",
      " [-0.08270018 -0.03158062 -0.40227517 -0.04349638  0.872593  ]\n",
      " [-0.06695209 -0.2639701   0.33538124  0.04627725  2.3062768 ]\n",
      " [ 1.3595532   1.7103624   0.8842775  -0.13732958 -1.1015173 ]]\n",
      "minimum value berdasarkan kolom: [2 1 0 4 0]\n",
      "minimum value berdasarkan baris: [4 1 2 1 4]\n"
     ]
    }
   ],
   "source": [
    "argmin_random = tf.random.normal([5,5])\n",
    "print(\"input random tensor:\",argmin_random.numpy())\n",
    "min_random_1 = tf.argmin(argmin_random, axis = 0)\n",
    "min_random_2 = tf.argmin(argmin_random, axis = 1)\n",
    "print(\"minimum value berdasarkan kolom:\",min_random_1.numpy())\n",
    "print(\"minimum value berdasarkan baris:\",min_random_2.numpy())"
   ]
  },
  {
   "cell_type": "markdown",
   "id": "debb0d75",
   "metadata": {},
   "source": [
    "<h3> Concatenation\n",
    "Penggabungan variable random_tensor & prime_tensor </h3>"
   ]
  },
  {
   "cell_type": "code",
   "execution_count": 12,
   "id": "119a75d1",
   "metadata": {},
   "outputs": [
    {
     "name": "stdout",
     "output_type": "stream",
     "text": [
      "size original data: (5, 5) (5, 5)\n",
      "size concatenated data: (10, 5)\n"
     ]
    }
   ],
   "source": [
    "random_tensor = tf.random.normal([5,5], mean=0, stddev=1, seed=1)\n",
    "prime_tensor = tf.constant([2, 3, 5, 7, 11, 13, 17, 19, 23, 29, 31, 37, 41, 43, 47, 53, 59, 61, 71, 73, 79, 83, 89, 97, 101], \n",
    "                           shape=[5, 5], dtype=tf.float32)\n",
    "print(\"size original data:\",random_tensor.shape,prime_tensor.shape)\n",
    "concated_tensor = tf.concat([random_tensor,prime_tensor],axis=0)\n",
    "print(\"size concatenated data:\",concated_tensor.shape)"
   ]
  },
  {
   "cell_type": "markdown",
   "id": "2138169b",
   "metadata": {},
   "source": [
    "<h3> Sorting descending variable random_tensor & prime_tensor </h3>"
   ]
  },
  {
   "cell_type": "code",
   "execution_count": 13,
   "id": "774f2a8e",
   "metadata": {},
   "outputs": [
    {
     "name": "stdout",
     "output_type": "stream",
     "text": [
      "input random tensor: [[-0.28433853  0.8922832   0.8983451   0.7163981   0.34969485]\n",
      " [-0.37960768  0.01531979  0.27423722 -2.214901   -0.08514621]\n",
      " [ 1.0113182   0.6616626   1.383323   -0.40465203  0.86142987]\n",
      " [-0.12589967 -1.418615    2.0295074   0.15304402  0.13658497]\n",
      " [-0.49787143  0.38847125 -0.4244715   0.46214256 -0.5444318 ]]\n",
      "input prime tensor: [[  2.   3.   5.   7.  11.]\n",
      " [ 13.  17.  19.  23.  29.]\n",
      " [ 31.  37.  41.  43.  47.]\n",
      " [ 53.  59.  61.  71.  73.]\n",
      " [ 79.  83.  89.  97. 101.]]\n",
      "random tensor sorted dengan descending order: [[ 0.8983451   0.8922832   0.7163981   0.34969485 -0.28433853]\n",
      " [ 0.27423722  0.01531979 -0.08514621 -0.37960768 -2.214901  ]\n",
      " [ 1.383323    1.0113182   0.86142987  0.6616626  -0.40465203]\n",
      " [ 2.0295074   0.15304402  0.13658497 -0.12589967 -1.418615  ]\n",
      " [ 0.46214256  0.38847125 -0.4244715  -0.49787143 -0.5444318 ]]\n",
      "prime tensor sorted dengan descending order: [[ 11.   7.   5.   3.   2.]\n",
      " [ 29.  23.  19.  17.  13.]\n",
      " [ 47.  43.  41.  37.  31.]\n",
      " [ 73.  71.  61.  59.  53.]\n",
      " [101.  97.  89.  83.  79.]]\n"
     ]
    }
   ],
   "source": [
    "random_tensor = tf.random.normal([5,5], mean=0, stddev=1, seed=1)\n",
    "print(\"input random tensor:\",random_tensor.numpy())\n",
    "prime_tensor = tf.constant([2, 3, 5, 7, 11, 13, 17, 19, 23, 29, 31, 37, 41, 43, 47, 53, 59, 61, 71, 73, 79, 83, 89, 97, 101], \n",
    "                           shape=[5, 5], dtype=tf.float32)\n",
    "print(\"input prime tensor:\",prime_tensor.numpy())\n",
    "sorted_random = tf.sort(random_tensor, direction = \"DESCENDING\")\n",
    "print(\"random tensor sorted dengan descending order:\",sorted_random.numpy())\n",
    "sorted_prime = tf.sort(prime_tensor, direction = \"DESCENDING\")\n",
    "print(\"prime tensor sorted dengan descending order:\",sorted_prime.numpy())"
   ]
  }
 ],
 "metadata": {
  "kernelspec": {
   "display_name": "Python 3 (ipykernel)",
   "language": "python",
   "name": "python3"
  },
  "language_info": {
   "codemirror_mode": {
    "name": "ipython",
    "version": 3
   },
   "file_extension": ".py",
   "mimetype": "text/x-python",
   "name": "python",
   "nbconvert_exporter": "python",
   "pygments_lexer": "ipython3",
   "version": "3.10.7"
  }
 },
 "nbformat": 4,
 "nbformat_minor": 5
}
